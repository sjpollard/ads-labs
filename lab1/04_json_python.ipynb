{
 "cells": [
  {
   "cell_type": "code",
   "execution_count": 1,
   "metadata": {},
   "outputs": [],
   "source": [
    "from __future__ import print_function\n",
    "\n",
    "import json "
   ]
  },
  {
   "cell_type": "markdown",
   "metadata": {},
   "source": [
    "# Save to file \n",
    "\n",
    "Create data and save it to file"
   ]
  },
  {
   "cell_type": "code",
   "execution_count": 2,
   "metadata": {},
   "outputs": [],
   "source": [
    "data = {\n",
    "    'one': 1, \n",
    "    'two': 2, \n",
    "    'list': [1, 2, 3, 4], \n",
    "    'matrix': [[1, 2, 3], [4, 5, 6], [7, 8, 9]], \n",
    "    'float_list': [1.0, 2.0], \n",
    "    'dict': {\n",
    "        'one': 4, \n",
    "        'two': 5, \n",
    "        'dict': {\n",
    "            'list': [0, 1, 2, 8]\n",
    "        }\n",
    "    }\n",
    "}\n",
    "\n",
    "json.dump(data, open('data.json', 'w'), indent=2, sort_keys=True)"
   ]
  },
  {
   "cell_type": "markdown",
   "metadata": {},
   "source": [
    "# Iteration"
   ]
  },
  {
   "cell_type": "code",
   "execution_count": 3,
   "metadata": {},
   "outputs": [
    {
     "name": "stdout",
     "output_type": "stream",
     "text": [
      "  The key is: one\n",
      "The value is: 1\n",
      "\n",
      "  The key is: two\n",
      "The value is: 2\n",
      "\n",
      "  The key is: list\n",
      "The value is: [1, 2, 3, 4]\n",
      "\n",
      "  The key is: matrix\n",
      "The value is: [[1, 2, 3], [4, 5, 6], [7, 8, 9]]\n",
      "\n",
      "  The key is: float_list\n",
      "The value is: [1.0, 2.0]\n",
      "\n",
      "  The key is: dict\n",
      "The value is: {'one': 4, 'two': 5, 'dict': {'list': [0, 1, 2, 8]}}\n",
      "\n"
     ]
    }
   ],
   "source": [
    "for kk, vv in data.items(): \n",
    "    print('  The key is:', kk)\n",
    "    print('The value is:', vv)\n",
    "    print()"
   ]
  },
  {
   "cell_type": "markdown",
   "metadata": {},
   "source": [
    "Iterate over the elements of the matrix"
   ]
  },
  {
   "cell_type": "code",
   "execution_count": 4,
   "metadata": {},
   "outputs": [
    {
     "name": "stdout",
     "output_type": "stream",
     "text": [
      "1 2 3 \n",
      "4 5 6 \n",
      "7 8 9 \n"
     ]
    }
   ],
   "source": [
    "for row in data['matrix']: \n",
    "    for el in row: \n",
    "        print(el, end=' ')\n",
    "    print()"
   ]
  },
  {
   "cell_type": "markdown",
   "metadata": {},
   "source": [
    "# Random access\n",
    "\n",
    "Randomly access various regions of the dictionary"
   ]
  },
  {
   "cell_type": "code",
   "execution_count": 5,
   "metadata": {},
   "outputs": [
    {
     "name": "stdout",
     "output_type": "stream",
     "text": [
      "[[1001, 2, 3], [4, 5, 6], [7, 8, 9]]\n"
     ]
    }
   ],
   "source": [
    "data['matrix'][0][0] += 1000\n",
    "print(data['matrix'])"
   ]
  },
  {
   "cell_type": "code",
   "execution_count": 6,
   "metadata": {},
   "outputs": [
    {
     "data": {
      "text/plain": [
       "{'list': [0, 1, 2, 8]}"
      ]
     },
     "execution_count": 6,
     "metadata": {},
     "output_type": "execute_result"
    }
   ],
   "source": [
    "data['dict']['dict']"
   ]
  },
  {
   "cell_type": "code",
   "execution_count": 7,
   "metadata": {},
   "outputs": [
    {
     "data": {
      "text/plain": [
       "2"
      ]
     },
     "execution_count": 7,
     "metadata": {},
     "output_type": "execute_result"
    }
   ],
   "source": [
    "data['dict']['dict']['list'][2]"
   ]
  },
  {
   "cell_type": "markdown",
   "metadata": {},
   "source": [
    "# Load dictionary from file"
   ]
  },
  {
   "cell_type": "code",
   "execution_count": 8,
   "metadata": {},
   "outputs": [
    {
     "name": "stdout",
     "output_type": "stream",
     "text": [
      "{\n",
      "  \"dict\": {\n",
      "    \"dict\": {\n",
      "      \"list\": [\n",
      "        0,\n",
      "        1,\n",
      "        2,\n",
      "        8\n",
      "      ]\n",
      "    },\n",
      "    \"one\": 4,\n",
      "    \"two\": 5\n",
      "  },\n",
      "  \"float_list\": [\n",
      "    1.0,\n",
      "    2.0\n",
      "  ],\n",
      "  \"list\": [\n",
      "    1,\n",
      "    2,\n",
      "    3,\n",
      "    4\n",
      "  ],\n",
      "  \"matrix\": [\n",
      "    [\n",
      "      1001,\n",
      "      2,\n",
      "      3\n",
      "    ],\n",
      "    [\n",
      "      4,\n",
      "      5,\n",
      "      6\n",
      "    ],\n",
      "    [\n",
      "      7,\n",
      "      8,\n",
      "      9\n",
      "    ]\n",
      "  ],\n",
      "  \"one\": 1,\n",
      "  \"two\": 2\n",
      "}\n",
      "{\n",
      "  \"dict\": {\n",
      "    \"dict\": {\n",
      "      \"list\": [\n",
      "        0,\n",
      "        1,\n",
      "        2,\n",
      "        8\n",
      "      ]\n",
      "    },\n",
      "    \"one\": 4,\n",
      "    \"two\": 5\n",
      "  },\n",
      "  \"float_list\": [\n",
      "    1.0,\n",
      "    2.0\n",
      "  ],\n",
      "  \"list\": [\n",
      "    1,\n",
      "    2,\n",
      "    3,\n",
      "    4\n",
      "  ],\n",
      "  \"matrix\": [\n",
      "    [\n",
      "      1,\n",
      "      2,\n",
      "      3\n",
      "    ],\n",
      "    [\n",
      "      4,\n",
      "      5,\n",
      "      6\n",
      "    ],\n",
      "    [\n",
      "      7,\n",
      "      8,\n",
      "      9\n",
      "    ]\n",
      "  ],\n",
      "  \"one\": 1,\n",
      "  \"two\": 2\n",
      "}\n"
     ]
    }
   ],
   "source": [
    "data_2 = json.load(open('data.json', 'r'))\n",
    "print(json.dumps(data, indent=2, sort_keys=True))\n",
    "print(json.dumps(data_2, indent=2, sort_keys=True))"
   ]
  }
 ],
 "metadata": {
  "kernelspec": {
   "display_name": "Python 3",
   "language": "python",
   "name": "python3"
  },
  "language_info": {
   "codemirror_mode": {
    "name": "ipython",
    "version": 3
   },
   "file_extension": ".py",
   "mimetype": "text/x-python",
   "name": "python",
   "nbconvert_exporter": "python",
   "pygments_lexer": "ipython3",
   "version": "3.11.1"
  },
  "vscode": {
   "interpreter": {
    "hash": "244976cd789a0e41b357eba34b56d987a42d764805d4d22c7ae55235970e3760"
   }
  }
 },
 "nbformat": 4,
 "nbformat_minor": 2
}
