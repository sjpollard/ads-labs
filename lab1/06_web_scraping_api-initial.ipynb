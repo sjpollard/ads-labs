{
 "cells": [
  {
   "cell_type": "markdown",
   "metadata": {},
   "source": [
    "# The Guardian API\n",
    "\n",
    "In the `05_web_scraping_beautiful_soup.ipynb` notebook, we saw examples on how BeautifulSoup can be used \n",
    "to parse messy HTML, to extract information, and to act as a rudimentary web crawler. \n",
    "We used The Guardian as an illustrative example about how this can be achieved. \n",
    "The reason for choosing The Guardian was because they provide a REST API to their servers. \n",
    "With the REST API it is possible to perform specific queries on their servers, and to receive \n",
    "current information from their servers according to their API guide (ie in JSON)\n",
    "\n",
    "http://open-platform.theguardian.com/\n",
    "\n",
    "In order to use their API, you will need to register for an API key. \n",
    "At the time of writing (Jan 24, 2022) this was an automated process that can be completed at \n",
    "\n",
    "https://bonobo.capi.gutools.co.uk/register/developer\n",
    "\n",
    "On registration you will receive an API key which will look like: 303qwe2k-xxxx-xxxx-xxxx-eff86a248059\n",
    "\n",
    "The API is documented here: \n",
    "\n",
    "http://open-platform.theguardian.com/documentation/\n",
    "\n",
    "and Python bindings to their API are provided by The Guardian here\n",
    "\n",
    "https://github.com/prabhath6/theguardian-api-python\n",
    "\n",
    "and these can easily be integrated into a web-crawler based on API calls, rather than being based \n",
    "on HTML parsing, etc. \n",
    "\n",
    "We use four parameters in our queries here: \n",
    "\n",
    "1. `section`: the section of the newspaper that we are interested in querying. In this case we will look at \n",
    "the technology section \n",
    "\n",
    "2. `order-by`: We have specified that the newest items should be closer to the front of the query list \n",
    "\n",
    "3. `api-key`: In this notebook, the api-key is left as `test` (works here), but for *real* deployment of such a spider an API key obtained from Guardian should be specified. For the lab tasks, you should replace `test` API key with your personal API key. \n",
    "\n",
    "4. `page-size`: The number of results to return. "
   ]
  },
  {
   "cell_type": "code",
   "execution_count": 2,
   "metadata": {},
   "outputs": [],
   "source": [
    "from __future__ import print_function\n",
    "\n",
    "import requests \n",
    "import json "
   ]
  },
  {
   "cell_type": "markdown",
   "metadata": {},
   "source": [
    "# Inspect all sections and search for technology-based sections"
   ]
  },
  {
   "cell_type": "code",
   "execution_count": 3,
   "metadata": {},
   "outputs": [],
   "source": [
    "url = 'https://content.guardianapis.com/sections?api-key=3367cbf7-7e5a-406a-ab07-6a6c7e8f934d'\n",
    "req = requests.get(url)\n",
    "src = req.text "
   ]
  },
  {
   "cell_type": "code",
   "execution_count": 4,
   "metadata": {
    "scrolled": true
   },
   "outputs": [
    {
     "data": {
      "text/plain": [
       "'ok'"
      ]
     },
     "execution_count": 4,
     "metadata": {},
     "output_type": "execute_result"
    }
   ],
   "source": [
    "json.loads(src)['response']['status']"
   ]
  },
  {
   "cell_type": "code",
   "execution_count": 5,
   "metadata": {},
   "outputs": [
    {
     "name": "stdout",
     "output_type": "stream",
     "text": [
      "dict_keys(['status', 'userTier', 'total', 'results'])\n"
     ]
    }
   ],
   "source": [
    "sections = json.loads(src)['response']\n",
    "\n",
    "print(sections.keys())"
   ]
  },
  {
   "cell_type": "code",
   "execution_count": 6,
   "metadata": {},
   "outputs": [
    {
     "name": "stdout",
     "output_type": "stream",
     "text": [
      "{\n",
      "  \"apiUrl\": \"https://content.guardianapis.com/about\",\n",
      "  \"editions\": [\n",
      "    {\n",
      "      \"apiUrl\": \"https://content.guardianapis.com/about\",\n",
      "      \"code\": \"default\",\n",
      "      \"id\": \"about\",\n",
      "      \"webTitle\": \"About\",\n",
      "      \"webUrl\": \"https://www.theguardian.com/about\"\n",
      "    }\n",
      "  ],\n",
      "  \"id\": \"about\",\n",
      "  \"webTitle\": \"About\",\n",
      "  \"webUrl\": \"https://www.theguardian.com/about\"\n",
      "}\n"
     ]
    }
   ],
   "source": [
    "print(json.dumps(sections['results'][0], indent=2, sort_keys=True))"
   ]
  },
  {
   "cell_type": "code",
   "execution_count": 7,
   "metadata": {},
   "outputs": [
    {
     "name": "stdout",
     "output_type": "stream",
     "text": [
      "Technology https://content.guardianapis.com/technology\n"
     ]
    }
   ],
   "source": [
    "for result in sections['results']: \n",
    "    if 'tech' in result['id'].lower(): \n",
    "        print(result['webTitle'], result['apiUrl'])"
   ]
  },
  {
   "cell_type": "markdown",
   "metadata": {},
   "source": [
    "# Manual query on whole API"
   ]
  },
  {
   "cell_type": "code",
   "execution_count": 8,
   "metadata": {},
   "outputs": [],
   "source": [
    "# Specify the arguments\n",
    "args = {\n",
    "    'section': 'technology', \n",
    "    'order-by': 'newest', \n",
    "    'api-key': '3367cbf7-7e5a-406a-ab07-6a6c7e8f934d', \n",
    "    'page-size': '100',\n",
    "    'q' : 'privacy%20AND%20data'\n",
    "}\n",
    "\n",
    "# Construct the URL\n",
    "base_url = 'http://content.guardianapis.com/search'\n",
    "url = '{}?{}'.format(\n",
    "    base_url, \n",
    "    '&'.join([\"{}={}\".format(kk, vv) for kk, vv in args.items()])\n",
    ")\n",
    "\n",
    "# Make the request and extract the source\n",
    "req = requests.get(url) \n",
    "src = req.text"
   ]
  },
  {
   "cell_type": "code",
   "execution_count": 9,
   "metadata": {},
   "outputs": [
    {
     "name": "stdout",
     "output_type": "stream",
     "text": [
      "Number of byes received: 60446\n"
     ]
    }
   ],
   "source": [
    "print('Number of byes received:', len(src))"
   ]
  },
  {
   "cell_type": "markdown",
   "metadata": {},
   "source": [
    "The API returns JSON, so we parse this using the in-built JSON library. \n",
    "The API specifies that all data are returned within the `response` key, even under failure. \n",
    "Thereofre, I have immediately descended to the response field "
   ]
  },
  {
   "cell_type": "markdown",
   "metadata": {},
   "source": [
    "# Parsing the JSON"
   ]
  },
  {
   "cell_type": "code",
   "execution_count": 10,
   "metadata": {},
   "outputs": [
    {
     "name": "stdout",
     "output_type": "stream",
     "text": [
      "The following are available:\n",
      "  ['currentPage', 'orderBy', 'pageSize', 'pages', 'results', 'startIndex', 'status', 'total', 'userTier']\n"
     ]
    }
   ],
   "source": [
    "response = json.loads(src)['response']\n",
    "print('The following are available:\\n ', sorted(response.keys()))"
   ]
  },
  {
   "cell_type": "markdown",
   "metadata": {},
   "source": [
    "# Verifying the status code\n",
    "\n",
    "It is important to verify that the status message is `ok` before continuing - if it is not `ok` no 'real' data \n",
    "will have been received. "
   ]
  },
  {
   "cell_type": "code",
   "execution_count": 11,
   "metadata": {},
   "outputs": [],
   "source": [
    "assert response['status'] == 'ok'"
   ]
  },
  {
   "cell_type": "markdown",
   "metadata": {},
   "source": [
    "# Listing the results \n",
    "\n",
    "The API standard states that the results will be found in the `results` field under the `response` field. \n",
    "Furthermore, the URLs will be found in the `webUrl` field, and the title will be found in the `webTitle` \n",
    "field. \n",
    "\n",
    "First let's look to see what a single result looks like in full, and then I will print a restricted \n",
    "set of parameters on the full set of results ."
   ]
  },
  {
   "cell_type": "code",
   "execution_count": 12,
   "metadata": {},
   "outputs": [
    {
     "name": "stdout",
     "output_type": "stream",
     "text": [
      "{\n",
      "  \"apiUrl\": \"https://content.guardianapis.com/australia-news/2023/jan/25/dating-app-background-and-id-checks-being-considered-in-bid-to-fight-abuse\",\n",
      "  \"id\": \"australia-news/2023/jan/25/dating-app-background-and-id-checks-being-considered-in-bid-to-fight-abuse\",\n",
      "  \"isHosted\": false,\n",
      "  \"pillarId\": \"pillar/news\",\n",
      "  \"pillarName\": \"News\",\n",
      "  \"sectionId\": \"technology\",\n",
      "  \"sectionName\": \"Technology\",\n",
      "  \"type\": \"article\",\n",
      "  \"webPublicationDate\": \"2023-01-25T07:14:50Z\",\n",
      "  \"webTitle\": \"Dating app background and ID checks being considered in bid to fight abuse\",\n",
      "  \"webUrl\": \"https://www.theguardian.com/australia-news/2023/jan/25/dating-app-background-and-id-checks-being-considered-in-bid-to-fight-abuse\"\n",
      "}\n"
     ]
    }
   ],
   "source": [
    "print(json.dumps(response['results'][0], indent=2, sort_keys=True))"
   ]
  },
  {
   "cell_type": "code",
   "execution_count": 13,
   "metadata": {},
   "outputs": [
    {
     "name": "stdout",
     "output_type": "stream",
     "text": [
      "https://www.theguardian.com/australia-news/2023/jan/25/dating-app-back Dating app backgroun\n",
      "https://www.theguardian.com/technology/2023/jan/24/techscape-tiktok-ba TechScape: Is ‘banni\n",
      "https://www.theguardian.com/technology/2023/jan/19/young-people-do-you Young people: do you\n",
      "https://www.theguardian.com/technology/2023/jan/17/age-checks-trolls-a Age checks, trolls a\n",
      "https://www.theguardian.com/technology/2023/jan/12/meta-voyager-labs-s Meta alleges surveil\n",
      "https://www.theguardian.com/technology/2023/jan/09/amazon-employee-dea ‘Lack of respect’: o\n",
      "https://www.theguardian.com/technology/2023/jan/09/afl-partner-cryptoc AFL partner Crypto.c\n",
      "https://www.theguardian.com/technology/2023/jan/04/meta-dealt-blow-eu- Meta dealt blow by E\n",
      "https://www.theguardian.com/technology/2022/dec/30/explainer-us-congre Why did the US just \n",
      "https://www.theguardian.com/technology/2022/dec/30/us-tiktok-ban-gover US bans China-based \n",
      "https://www.theguardian.com/technology/2022/dec/20/techscape-elon-musk TechScape: Elon Musk\n",
      "https://www.theguardian.com/technology/2022/dec/15/twitter-suspends-ac Twitter suspends acc\n",
      "https://www.theguardian.com/technology/2022/dec/15/meta-facebook-owner Meta warns spyware s\n",
      "https://www.theguardian.com/technology/2022/dec/12/tell-us-have-you-ex Tell us: have you ex\n",
      "https://www.theguardian.com/technology/2022/dec/08/privacy-changes-app Privacy changes set \n",
      "https://www.theguardian.com/technology/2022/dec/07/texas-bans-tiktok-g Texas bans TikTok on\n",
      "https://www.theguardian.com/technology/2022/dec/07/metaverse-slow-deat ‘The metaverse will \n",
      "https://www.theguardian.com/technology/2022/dec/04/ai-bot-chatgpt-stun AI bot ChatGPT stuns\n",
      "https://www.theguardian.com/technology/2022/dec/02/i-am-a-medibank-cus I am a Medibank cust\n",
      "https://www.theguardian.com/technology/2022/nov/29/is-it-worth-taking- Is it worth taking o\n",
      "https://www.theguardian.com/technology/2022/nov/22/instagram-told-to-r Instagram told to re\n",
      "https://www.theguardian.com/technology/2022/nov/21/woman-launches-high Facebook sued for co\n",
      "https://www.theguardian.com/technology/2022/nov/14/have-you-been-affec Have you been affect\n",
      "https://www.theguardian.com/technology/2022/nov/12/joining-the-herd-wh Joining the herd: wh\n",
      "https://www.theguardian.com/technology/2022/nov/12/elon-musk-twitter-c Chaos unleashed: Elo\n",
      "https://www.theguardian.com/technology/2022/nov/11/tech-workers-have-y Tech workers: have y\n",
      "https://www.theguardian.com/technology/2022/oct/26/i-am-a-medibank-cus I am a Medibank cust\n",
      "https://www.theguardian.com/technology/2022/nov/10/exodus-twitter-elon Exodus continues at \n",
      "https://www.theguardian.com/technology/2022/nov/10/elon-musk-scraps-tw Elon Musk scraps Twi\n",
      "https://www.theguardian.com/technology/2022/nov/09/mark-zuckerberg-met Facebook owner Meta \n",
      "https://www.theguardian.com/technology/2022/nov/08/meta-layoffs-facebo Mark Zuckerberg conf\n",
      "https://www.theguardian.com/technology/2022/nov/07/tiktoks-china-byted TikTok’s ties to Chi\n",
      "https://www.theguardian.com/technology/2022/nov/07/facebook-parent-met Facebook’s parent Me\n",
      "https://www.theguardian.com/technology/2022/nov/06/un-urges-elon-musk- UN urges Elon Musk t\n",
      "https://www.theguardian.com/technology/2022/nov/02/tiktok-tells-europe TikTok tells Europea\n",
      "https://www.theguardian.com/technology/2022/oct/31/tell-us-how-do-you- Tell us: how do you \n",
      "https://www.theguardian.com/technology/2022/oct/31/online-age-verifica Online age-verificat\n",
      "https://www.theguardian.com/technology/2022/oct/29/privacy-problem-tec Can a new form of cr\n",
      "https://www.theguardian.com/technology/2022/oct/27/government-criticis Government criticise\n",
      "https://www.theguardian.com/technology/2022/oct/26/meta-earnings-repor $80bn wiped from val\n",
      "https://www.theguardian.com/technology/2022/oct/27/live-facial-recogni UK police use of liv\n",
      "https://www.theguardian.com/technology/2022/oct/25/tell-us-have-you-se Tell us: have you se\n",
      "https://www.theguardian.com/technology/2022/oct/23/tiktok-rise-algorit How TikTok’s algorit\n",
      "https://www.theguardian.com/technology/2022/oct/21/tiktok-denies-repor TikTok denies report\n",
      "https://www.theguardian.com/technology/2022/oct/21/medibank-hack-expla Medibank hack: what \n",
      "https://www.theguardian.com/technology/2022/oct/20/porn-sites-not-doin Porn sites are not d\n",
      "https://www.theguardian.com/technology/2022/oct/20/census-website-stru Census website struc\n",
      "https://www.theguardian.com/technology/2022/oct/10/tell-us-have-you-ta Tell us: have you ta\n",
      "https://www.theguardian.com/technology/2022/oct/07/government-consider Government considers\n",
      "https://www.theguardian.com/technology/2022/oct/02/danielle-citron-pri Law professor Daniel\n",
      "https://www.theguardian.com/technology/2022/sep/26/tiktok-fine-protect TikTok could face £2\n",
      "https://www.theguardian.com/technology/2022/sep/18/whistleblower-elon- Whistleblower claims\n",
      "https://www.theguardian.com/technology/2022/sep/13/twitter-whistleblow Twitter whistleblowe\n",
      "https://www.theguardian.com/technology/2022/sep/13/can-we-escape-the-t ‘So many people tell\n",
      "https://www.theguardian.com/technology/2022/sep/12/twitter-peiter-mudg Twitter whistleblowe\n",
      "https://www.theguardian.com/technology/2022/sep/08/snapchat-target-mil ‘We can do better’: \n",
      "https://www.theguardian.com/technology/2022/sep/08/apple-iphone-14-wat Apple’s iPhone 14 pu\n",
      "https://www.theguardian.com/technology/2022/sep/05/instagram-owner-met Instagram owner Meta\n",
      "https://www.theguardian.com/technology/2022/aug/31/snapchat-parent-sna Snapchat firm cuts 1\n",
      "https://www.theguardian.com/technology/2022/aug/30/california-protect- First-of-its-kind le\n",
      "https://www.theguardian.com/technology/2022/aug/30/elon-musk-adds-whis Elon Musk adds whist\n",
      "https://www.theguardian.com/technology/2022/aug/29/ftc-sues-kochava-tr Data company sued by\n",
      "https://www.theguardian.com/technology/2022/aug/27/facebook-cambridge- Facebook-Cambridge A\n",
      "https://www.theguardian.com/technology/2022/aug/27/the-best-6-i-ever-s The best £6 I ever s\n",
      "https://www.theguardian.com/technology/2022/aug/25/tell-us-what-kind-o Tell us: what kind o\n",
      "https://www.theguardian.com/technology/2022/aug/23/twitter-whistleblow How Twitter’s whistl\n",
      "https://www.theguardian.com/technology/2022/aug/23/voice-accent-techno The AI startup erasi\n",
      "https://www.theguardian.com/technology/2022/aug/24/tiktok-can-track-us TikTok can track use\n",
      "https://www.theguardian.com/technology/2022/aug/23/twitter-whistleblow Twitter whistleblowe\n",
      "https://www.theguardian.com/technology/2022/aug/22/priti-patel-urges-m Priti Patel urges Me\n",
      "https://www.theguardian.com/technology/2022/aug/16/users-of-zoom-on-ma Users of Zoom on Mac\n",
      "https://www.theguardian.com/technology/2022/aug/16/ask-all-the-time-wh ‘Ask all the time: w\n",
      "https://www.theguardian.com/technology/2022/aug/11/meta-injecting-code Meta injecting code \n",
      "https://www.theguardian.com/technology/2022/aug/09/blenderbot-meta-cha Meta’s new AI chatbo\n",
      "https://www.theguardian.com/technology/2022/aug/08/whatsapp-opens-door WhatsApp opens the d\n",
      "https://www.theguardian.com/technology/2022/jul/31/apple-scan-iphones- Apple should scan iP\n",
      "https://www.theguardian.com/technology/2022/jul/27/meta-growth-halt-fa Meta’s growth comes \n",
      "https://www.theguardian.com/technology/2022/jul/27/tell-us-what-do-you Tell us: what do you\n",
      "https://www.theguardian.com/technology/2022/jul/27/techscape-what-shou TechScape: What shou\n",
      "https://www.theguardian.com/technology/2022/jul/25/bunnings-and-kmart- Bunnings and Kmart h\n",
      "https://www.theguardian.com/technology/2022/jul/22/snap-shares-slump-2 Shares in Snapchat o\n",
      "https://www.theguardian.com/technology/2022/jul/21/google-abortion-pri Google under scrutin\n",
      "https://www.theguardian.com/technology/2022/jul/21/facebook-to-restore Facebook to restore \n",
      "https://www.theguardian.com/technology/2022/jul/20/mark-zuckerberg-dep Mark Zuckerberg to f\n",
      "https://www.theguardian.com/technology/2022/jul/20/tiktoks-privacy-pro TechScape: suspiciou\n",
      "https://www.theguardian.com/technology/2022/jul/19/tiktok-has-been-acc TikTok has been accu\n",
      "https://www.theguardian.com/technology/2022/jul/16/amazon-style-clothi ‘Hi-tech’, underwhel\n",
      "https://www.theguardian.com/technology/2022/jul/13/amazon-ring-doorbel Amazon gave Ring doo\n",
      "https://www.theguardian.com/technology/2022/jul/11/uk-parents-how-much UK parents: how much\n",
      "https://www.theguardian.com/technology/2022/jul/06/uk-could-force-mess UK could force messa\n",
      "https://www.theguardian.com/technology/2022/jul/04/amazon-fire-7-2022- Amazon Fire 7 2022 r\n",
      "https://www.theguardian.com/technology/2022/jun/30/users-opensea-nft-m Users of biggest NFT\n",
      "https://www.theguardian.com/technology/2022/jun/29/techscape-roe-v-wad TechScape: Can US wo\n",
      "https://www.theguardian.com/technology/2022/jun/25/changpeng-zhao-tech Changpeng Zhao: tech\n",
      "https://www.theguardian.com/technology/2022/jun/23/instagram-try-age-c Instagram to try out\n",
      "https://www.theguardian.com/technology/2022/jun/22/microsoft-limits-ac Microsoft limits acc\n",
      "https://www.theguardian.com/technology/2022/jun/21/elon-musk-daughter- Elon Musk’s daughter\n",
      "https://www.theguardian.com/technology/2022/jun/21/tell-us-have-you-or Tell us: have you or\n",
      "https://www.theguardian.com/technology/2022/jun/20/nreal-air-review-ar Nreal Air review: ne\n",
      "https://www.theguardian.com/technology/2022/jun/17/uk-plan-to-scrap-co UK plan to scrap coo\n"
     ]
    }
   ],
   "source": [
    "for result in response['results']: \n",
    "    print(result['webUrl'][:70], result['webTitle'][:20])"
   ]
  },
  {
   "attachments": {},
   "cell_type": "markdown",
   "metadata": {},
   "source": [
    "# Task 6"
   ]
  },
  {
   "cell_type": "code",
   "execution_count": 32,
   "metadata": {},
   "outputs": [],
   "source": [
    "args = {\n",
    "    'section': 'technology', \n",
    "    'order-by': 'newest', \n",
    "    'api-key': '3367cbf7-7e5a-406a-ab07-6a6c7e8f934d', \n",
    "    'page-size': '100'\n",
    "}\n",
    "\n",
    "# Construct the URL\n",
    "base_url = 'http://content.guardianapis.com/search'\n",
    "url = '{}?{}'.format(\n",
    "    base_url, \n",
    "    '&'.join([\"{}={}\".format(kk, vv) for kk, vv in args.items()])\n",
    ")\n",
    "\n",
    "# Make the request and extract the source\n",
    "req = requests.get(url) \n",
    "src = req.text"
   ]
  },
  {
   "cell_type": "code",
   "execution_count": 33,
   "metadata": {},
   "outputs": [
    {
     "name": "stdout",
     "output_type": "stream",
     "text": [
      "The following are available:\n",
      "  ['currentPage', 'orderBy', 'pageSize', 'pages', 'results', 'startIndex', 'status', 'total', 'userTier']\n",
      "0 100 0\n"
     ]
    }
   ],
   "source": [
    "response = json.loads(src)['response']\n",
    "print('The following are available:\\n ', sorted(response.keys()))\n",
    "print(response['total'], response['pageSize'], response['pages'])"
   ]
  },
  {
   "attachments": {},
   "cell_type": "markdown",
   "metadata": {},
   "source": [
    "# Task 7"
   ]
  },
  {
   "cell_type": "code",
   "execution_count": 60,
   "metadata": {},
   "outputs": [],
   "source": [
    "args = {\n",
    "    'section': 'technology', \n",
    "    'order-by': 'newest', \n",
    "    'api-key': '3367cbf7-7e5a-406a-ab07-6a6c7e8f934d', \n",
    "    'page-size': '100',\n",
    "    'q' : '(privacy AND whatsapp AND signal) AND NOT (AI OR artificial%20intelligence)'\n",
    "}\n",
    "\n",
    "# Construct the URL\n",
    "base_url = 'http://content.guardianapis.com/search'\n",
    "url = '{}?{}'.format(\n",
    "    base_url, \n",
    "    '&'.join([\"{}={}\".format(kk, vv) for kk, vv in args.items()])\n",
    ")\n",
    "\n",
    "# Make the request and extract the source\n",
    "req = requests.get(url) \n",
    "src = req.text"
   ]
  },
  {
   "cell_type": "code",
   "execution_count": 62,
   "metadata": {},
   "outputs": [
    {
     "name": "stdout",
     "output_type": "stream",
     "text": [
      "https://www.theguardian.com/technology/2022/jul/06/uk-could-force-mess UK could force messa\n",
      "https://www.theguardian.com/technology/2021/oct/08/i-might-delete-it-f ‘I might delete it’:\n",
      "https://www.theguardian.com/technology/2021/oct/06/tell-us-are-you-con  Tell us: are you co\n",
      "https://www.theguardian.com/technology/2021/aug/13/uk-security-chiefs- UK security chiefs i\n",
      "https://www.theguardian.com/technology/2021/jun/13/whatsapp-boss-decri WhatsApp boss decrie\n",
      "https://www.theguardian.com/technology/2021/may/11/what-happens-when-w What happens when Wh\n",
      "https://www.theguardian.com/technology/2021/may/09/how-private-is-your How private is your \n",
      "https://www.theguardian.com/technology/2021/feb/22/whatsapp-to-try-aga WhatsApp to try agai\n",
      "https://www.theguardian.com/technology/2021/feb/14/facebook-v-apple-th Facebook v Apple: th\n",
      "https://www.theguardian.com/technology/2021/jan/26/uk-regulator-to-wri UK regulator to writ\n",
      "https://www.theguardian.com/technology/2021/jan/24/whatsapp-loses-mill WhatsApp loses milli\n",
      "https://www.theguardian.com/technology/2021/jan/24/is-it-time-to-leave Is it time to leave \n",
      "https://www.theguardian.com/technology/2021/jan/16/should-you-keep-usi Should you keep usin\n",
      "https://www.theguardian.com/technology/askjack/2018/jun/28/can-my-empl Can my employer read\n",
      "https://www.theguardian.com/technology/2018/mar/31/youve-decided-to-de You’ve decided to de\n",
      "https://www.theguardian.com/technology/2018/feb/05/whatsapp-deleting-y I deleted WhatsApp f\n",
      "https://www.theguardian.com/technology/2017/jul/14/forcing-facebook-go Australia's plan to \n",
      "https://www.theguardian.com/technology/2017/jun/19/eu-outlaw-backdoors EU seeks to outlaw '\n",
      "https://www.theguardian.com/technology/2017/jun/12/george-brandiss-sal George Brandis's sal\n",
      "https://www.theguardian.com/technology/2017/mar/08/wikileaks-vault-7-c 'Am I at risk of bei\n",
      "https://www.theguardian.com/technology/2017/mar/05/political-rebels-wh Why political rebels\n",
      "https://www.theguardian.com/technology/2017/jan/14/whatsapp-vulnerabil As WhatsApp comes un\n",
      "https://www.theguardian.com/technology/2017/jan/13/dissidents-disappoi Dissidents disappoin\n",
      "https://www.theguardian.com/technology/2017/jan/13/should-i-be-worried Should I be worried \n",
      "https://www.theguardian.com/technology/2017/jan/13/whatsapp-design-fea WhatsApp design feat\n",
      "https://www.theguardian.com/technology/askjack/2016/nov/24/how-can-i-p How can I protect my\n",
      "https://www.theguardian.com/technology/2016/nov/10/nsa-trump-protect-y Worried about the NS\n",
      "https://www.theguardian.com/technology/2016/aug/25/whatsapp-backlash-f WhatsApp privacy bac\n",
      "https://www.theguardian.com/technology/2016/apr/05/whatsapp-rolls-out- WhatsApp rolls out f\n",
      "https://www.theguardian.com/technology/2016/mar/21/apple-fbi-encryptio Beyond surveillance:\n",
      "https://www.theguardian.com/technology/2016/mar/14/facebook-google-wha Facebook, Google and\n",
      "https://www.theguardian.com/technology/2016/mar/01/apple-fbi-encryptio Security experts: FB\n",
      "https://www.theguardian.com/technology/2015/dec/25/got-a-new-smartphon Got a new smartphone\n",
      "https://www.theguardian.com/technology/2015/may/13/bittorrent-bleep-se BitTorrent brings it\n",
      "https://www.theguardian.com/technology/2014/dec/11/messenger-private-c Worried about leaky \n",
      "https://www.theguardian.com/technology/2014/dec/04/-sp-ten-best-messag The 10 best messagin\n",
      "https://www.theguardian.com/technology/2014/nov/19/whatsapp-messaging- WhatsApp adds end-to\n",
      "https://www.theguardian.com/technology/2014/jun/06/bigger-iphone-apple Apple WWDC: expect a\n",
      "https://www.theguardian.com/technology/shortcuts/2014/feb/02/what-mess What your messaging \n"
     ]
    }
   ],
   "source": [
    "response = json.loads(src)['response']\n",
    "for result in response['results']: \n",
    "    print(result['webUrl'][:70], result['webTitle'][:20])"
   ]
  },
  {
   "cell_type": "code",
   "execution_count": 84,
   "metadata": {},
   "outputs": [],
   "source": [
    "args = {\n",
    "    'section': 'business', \n",
    "    'order-by': 'newest', \n",
    "    'api-key': '3367cbf7-7e5a-406a-ab07-6a6c7e8f934d', \n",
    "    'page-size': '100',\n",
    "    'q' : '\"stock squeeze\"'\n",
    "}\n",
    "\n",
    "# Construct the URL\n",
    "base_url = 'http://content.guardianapis.com/search'\n",
    "url = '{}?{}'.format(\n",
    "    base_url, \n",
    "    '&'.join([\"{}={}\".format(kk, vv) for kk, vv in args.items()])\n",
    ")\n",
    "\n",
    "# Make the request and extract the source\n",
    "req = requests.get(url) \n",
    "src = req.text"
   ]
  },
  {
   "cell_type": "code",
   "execution_count": 85,
   "metadata": {},
   "outputs": [
    {
     "name": "stdout",
     "output_type": "stream",
     "text": [
      "{'status': 'ok', 'userTier': 'developer', 'total': 1, 'startIndex': 1, 'pageSize': 100, 'currentPage': 1, 'pages': 1, 'orderBy': 'newest', 'results': [{'id': 'business/marketforceslive/2009/jan/06/next-debenhams1', 'type': 'article', 'sectionId': 'business', 'sectionName': 'Business', 'webPublicationDate': '2009-01-06T13:51:01Z', 'webTitle': 'Miners and Man help shares maintain rally', 'webUrl': 'https://www.theguardian.com/business/marketforceslive/2009/jan/06/next-debenhams1', 'apiUrl': 'https://content.guardianapis.com/business/marketforceslive/2009/jan/06/next-debenhams1', 'isHosted': False, 'pillarId': 'pillar/news', 'pillarName': 'News'}]}\n",
      "https://www.theguardian.com/business/marketforceslive/2009/jan/06/next Miners and Man help \n"
     ]
    }
   ],
   "source": [
    "response = json.loads(src)['response']\n",
    "print(response)\n",
    "for result in response['results']: \n",
    "    print(result['webUrl'][:70], result['webTitle'][:20])"
   ]
  },
  {
   "cell_type": "code",
   "execution_count": 101,
   "metadata": {},
   "outputs": [],
   "source": [
    "args = {\n",
    "    'order-by': 'newest', \n",
    "    'api-key': '3367cbf7-7e5a-406a-ab07-6a6c7e8f934d', \n",
    "    'page-size': '100',\n",
    "    'q' : '(elon AND musk AND twitter) AND (NOT tesla)',\n",
    "    'from-date': '2022-01-01',\n",
    "    'to-date': '2022-12-31'\n",
    "}\n",
    "\n",
    "# Construct the URL\n",
    "base_url = 'http://content.guardianapis.com/search'\n",
    "url = '{}?{}'.format(\n",
    "    base_url, \n",
    "    '&'.join([\"{}={}\".format(kk, vv) for kk, vv in args.items()])\n",
    ")\n",
    "\n",
    "# Make the request and extract the source\n",
    "req = requests.get(url) \n",
    "src = req.text"
   ]
  },
  {
   "cell_type": "code",
   "execution_count": null,
   "metadata": {},
   "outputs": [],
   "source": [
    "response = json.loads(src)['response']\n",
    "print(response)\n",
    "for result in response['results']: \n",
    "    print(result['webUrl'][:70], result['webTitle'][:20])"
   ]
  },
  {
   "attachments": {},
   "cell_type": "markdown",
   "metadata": {},
   "source": [
    "# Task 8"
   ]
  },
  {
   "cell_type": "code",
   "execution_count": 119,
   "metadata": {},
   "outputs": [],
   "source": [
    "args = {\n",
    "    'section': 'technology', \n",
    "    'order-by': 'newest', \n",
    "    'api-key': '3367cbf7-7e5a-406a-ab07-6a6c7e8f934d', \n",
    "    'page-size': '100',\n",
    "    'q' : '(privacy AND whatsapp AND signal) AND NOT (ai OR \"artificial intelligence\")'\n",
    "}\n",
    "\n",
    "# Construct the URL\n",
    "base_url = 'http://content.guardianapis.com/search'\n",
    "url = '{}?{}'.format(\n",
    "    base_url, \n",
    "    '&'.join([\"{}={}\".format(kk, vv) for kk, vv in args.items()])\n",
    ")\n",
    "\n",
    "# Make the request and extract the source\n",
    "req = requests.get(url) \n",
    "src = req.text"
   ]
  },
  {
   "cell_type": "code",
   "execution_count": 128,
   "metadata": {},
   "outputs": [],
   "source": [
    "i = 0\n",
    "api_url = response['results'][i]['apiUrl']\n",
    "api_id = response['results'][i]['id']\n",
    "base_url = \"https://content.guardianapis.com/search?\"\n",
    "search_string = \"ids=%s&api-key=%s&show-fields=headline,body\" %(api_id,\n",
    "'3367cbf7-7e5a-406a-ab07-6a6c7e8f934d')\n",
    "url = base_url + search_string\n",
    "response = json.loads(requests.get(url).text)['response']"
   ]
  },
  {
   "cell_type": "code",
   "execution_count": 140,
   "metadata": {},
   "outputs": [
    {
     "name": "stdout",
     "output_type": "stream",
     "text": [
      "UK could force messaging apps to adopt new technology to tackle abuse images\n",
      "<p>Heavily encrypted messaging services such as WhatsApp could be required to adopt cutting-edge technology to spot child sexual abuse material or face the threat of significant fines, under changes to UK digital safety legislation.</p> <p>The amendment to the online safety bill would require tech firms to make their “best endeavours” to deploy new technology that identifies and removes child sexual abuse and exploitation content (CSAE).</p> <p>It comes as Mark Zuckerberg’s Facebook Messenger and Instagram apps prepare to introduce end-to-end encryption despite strong opposition from the UK government, which has described the plans as “not acceptable”.</p> <p>The home secretary, Priti Patel, a longstanding critic of Zuckerberg’s plans, said the change in the law balanced the need to protect children while providing privacy for online users.</p> <p>She said: “Child sexual abuse is a sickening crime. We must all work to ensure criminals are not allowed to run rampant online and technology companies must play their part and take responsibility for keeping our children safe. Privacy and security are not mutually exclusive – we need both, and we can have both, and that is what this amendment delivers.”</p> <p>Child safety campaigners have said heavy encryption to ensure that only the sender and recipient can view their messages would prevent law enforcement and tech platforms from seeing illegal content. However, officials said the amendment was not an attempt to stop the rollout of more such services and that any technology deployed would have to be effective and proportionate.</p> <p>Zuckerberg’s Meta business, which also owns the encrypted WhatsApp messaging service, is <a href=\"https://www.theguardian.com/technology/2021/nov/21/meta-delays-encrypted-messages-on-facebook-and-instagram-to-2023\">delaying introducing</a> its Messenger and Instagram plans until 2023.</p> <p>Vetting private messages for child abuse material has proved controversial, with campaigners warning of negative consequences for user privacy. One controversial method that could be considered by the communications watchdog Ofcom, which is overseeing implementation of the bill, is client-side scanning. Apple has <a href=\"https://www.theguardian.com/technology/2021/sep/03/apple-delays-plans-to-scan-cloud-uploads-for-child-sexual-abuse-images\">delayed plans</a> to introduce the technology, which would involve scanning user images for child sexual abuse material before uploading them to the cloud. The company has proposed deploying a technique that would compare photos with known images of child abuse when users opt to upload them to the cloud.</p> <p>Under the proposed amendment, Ofcom would be able to demand that tech firms deploy or develop new technology that can help find abuse material and stop its spread. The amendment tightens an existing clause in <a href=\"https://publications.parliament.uk/pa/bills/cbill/58-03/0121/220121.pdf\">the bill</a> that already proposes giving Ofcom the power to require deployment of “accredited technology”. The change would require companies to use their “best endeavours” to deploy or develop new technology if the existing technology is not suitable for their platform.</p>  <figure class=\"element element-embed\" data-alt=\"Sign up to First Edition, our free daily newsletter – every weekday morning at 7am\">  <iframe id=\"morning-briefing\" name=\"morning-briefing\" src=\"https://www.theguardian.com/email/form/plaintone/morning-briefing\" scrolling=\"no\" seamless=\"\" class=\"iframed--overflow-hidden email-sub__iframe\" height=\"52px\" frameborder=\"0\" data-component=\"email-embed--morning-briefing\"></iframe> <figcaption>Sign up to First Edition, our free daily newsletter – every weekday morning at 7am</figcaption> </figure>  <p>If a company fails to adopt that technology, Ofcom would have the power to impose fines of up to £18m or 10% of a company’s global annual turnover – whichever is higher.</p> <p>The online safety bill returns to parliament next week after being scrutinised by a committee of MPs and is expected to become law around the year end or in early 2023.</p> <p>There are between 550,000 and 850,000 people in the UK who pose a sexual risk to children, according to the National Crime Agency. Rob Jones, the NCA director general for child sexual abuse, said: “We need tech companies to be there on the frontline with us and these new measures will ensure that.”</p> <p>The UK data watchdog has also intervened in the debate about end-to-end encryption, which is used by WhatsApp and other services such as Signal. In January the Information Commissioner’s Office said strongly encrypting communications strengthened online safety for children by reducing their exposure to <a href=\"https://www.theguardian.com/technology/2022/jan/21/end-to-end-encryption-protects-children-says-uk-information-watchdog\">threats such as blackmail</a>, while also allowing businesses to share information securely.</p>\n"
     ]
    }
   ],
   "source": [
    "for result in response['results']:\n",
    "    print(result['fields']['headline']) \n",
    "    print(result['fields']['body'])"
   ]
  },
  {
   "attachments": {},
   "cell_type": "markdown",
   "metadata": {},
   "source": [
    "# Task 9"
   ]
  },
  {
   "cell_type": "code",
   "execution_count": 205,
   "metadata": {},
   "outputs": [
    {
     "name": "stdout",
     "output_type": "stream",
     "text": [
      "Heavily encrypted messaging services such as WhatsApp could be required to adopt cutting-edge technology to spot child sexual abuse material or face the threat of significant fines, under changes to UK digital safety legislation. The amendment to the online safety bill would require tech firms to make their “best endeavours” to deploy new technology that identifies and removes child sexual abuse and exploitation content (CSAE). It comes as Mark Zuckerberg’s Facebook Messenger and Instagram apps prepare to introduce end-to-end encryption despite strong opposition from the UK government, which has described the plans as “not acceptable”. The home secretary, Priti Patel, a longstanding critic of Zuckerberg’s plans, said the change in the law balanced the need to protect children while providing privacy for online users. She said: “Child sexual abuse is a sickening crime. We must all work to ensure criminals are not allowed to run rampant online and technology companies must play their part and take responsibility for keeping our children safe. Privacy and security are not mutually exclusive – we need both, and we can have both, and that is what this amendment delivers.” Child safety campaigners have said heavy encryption to ensure that only the sender and recipient can view their messages would prevent law enforcement and tech platforms from seeing illegal content. However, officials said the amendment was not an attempt to stop the rollout of more such services and that any technology deployed would have to be effective and proportionate. Zuckerberg’s Meta business, which also owns the encrypted WhatsApp messaging service, is delaying introducing its Messenger and Instagram plans until 2023. Vetting private messages for child abuse material has proved controversial, with campaigners warning of negative consequences for user privacy. One controversial method that could be considered by the communications watchdog Ofcom, which is overseeing implementation of the bill, is client-side scanning. Apple has delayed plans to introduce the technology, which would involve scanning user images for child sexual abuse material before uploading them to the cloud. The company has proposed deploying a technique that would compare photos with known images of child abuse when users opt to upload them to the cloud. Under the proposed amendment, Ofcom would be able to demand that tech firms deploy or develop new technology that can help find abuse material and stop its spread. The amendment tightens an existing clause in the bill that already proposes giving Ofcom the power to require deployment of “accredited technology”. The change would require companies to use their “best endeavours” to deploy or develop new technology if the existing technology is not suitable for their platform.     Sign up to First Edition, our free daily newsletter – every weekday morning at 7am   If a company fails to adopt that technology, Ofcom would have the power to impose fines of up to £18m or 10% of a company’s global annual turnover – whichever is higher. The online safety bill returns to parliament next week after being scrutinised by a committee of MPs and is expected to become law around the year end or in early 2023. There are between 550,000 and 850,000 people in the UK who pose a sexual risk to children, according to the National Crime Agency. Rob Jones, the NCA director general for child sexual abuse, said: “We need tech companies to be there on the frontline with us and these new measures will ensure that.” The UK data watchdog has also intervened in the debate about end-to-end encryption, which is used by WhatsApp and other services such as Signal. In January the Information Commissioner’s Office said strongly encrypting communications strengthened online safety for children by reducing their exposure to threats such as blackmail, while also allowing businesses to share information securely.\n",
      "628\n",
      "319\n"
     ]
    },
    {
     "data": {
      "text/html": [
       "<div>\n",
       "<style scoped>\n",
       "    .dataframe tbody tr th:only-of-type {\n",
       "        vertical-align: middle;\n",
       "    }\n",
       "\n",
       "    .dataframe tbody tr th {\n",
       "        vertical-align: top;\n",
       "    }\n",
       "\n",
       "    .dataframe thead th {\n",
       "        text-align: right;\n",
       "    }\n",
       "</style>\n",
       "<table border=\"1\" class=\"dataframe\">\n",
       "  <thead>\n",
       "    <tr style=\"text-align: right;\">\n",
       "      <th></th>\n",
       "      <th>index</th>\n",
       "      <th>0</th>\n",
       "    </tr>\n",
       "  </thead>\n",
       "  <tbody>\n",
       "    <tr>\n",
       "      <th>0</th>\n",
       "      <td>to</td>\n",
       "      <td>34</td>\n",
       "    </tr>\n",
       "    <tr>\n",
       "      <th>1</th>\n",
       "      <td>the</td>\n",
       "      <td>28</td>\n",
       "    </tr>\n",
       "    <tr>\n",
       "      <th>2</th>\n",
       "      <td>and</td>\n",
       "      <td>18</td>\n",
       "    </tr>\n",
       "    <tr>\n",
       "      <th>3</th>\n",
       "      <td>that</td>\n",
       "      <td>11</td>\n",
       "    </tr>\n",
       "    <tr>\n",
       "      <th>4</th>\n",
       "      <td>of</td>\n",
       "      <td>10</td>\n",
       "    </tr>\n",
       "    <tr>\n",
       "      <th>...</th>\n",
       "      <td>...</td>\n",
       "      <td>...</td>\n",
       "    </tr>\n",
       "    <tr>\n",
       "      <th>314</th>\n",
       "      <td>deployed</td>\n",
       "      <td>1</td>\n",
       "    </tr>\n",
       "    <tr>\n",
       "      <th>315</th>\n",
       "      <td>effective</td>\n",
       "      <td>1</td>\n",
       "    </tr>\n",
       "    <tr>\n",
       "      <th>316</th>\n",
       "      <td>proportionate</td>\n",
       "      <td>1</td>\n",
       "    </tr>\n",
       "    <tr>\n",
       "      <th>317</th>\n",
       "      <td>Meta</td>\n",
       "      <td>1</td>\n",
       "    </tr>\n",
       "    <tr>\n",
       "      <th>318</th>\n",
       "      <td>securely</td>\n",
       "      <td>1</td>\n",
       "    </tr>\n",
       "  </tbody>\n",
       "</table>\n",
       "<p>319 rows × 2 columns</p>\n",
       "</div>"
      ],
      "text/plain": [
       "             index   0\n",
       "0               to  34\n",
       "1              the  28\n",
       "2              and  18\n",
       "3             that  11\n",
       "4               of  10\n",
       "..             ...  ..\n",
       "314       deployed   1\n",
       "315      effective   1\n",
       "316  proportionate   1\n",
       "317           Meta   1\n",
       "318       securely   1\n",
       "\n",
       "[319 rows x 2 columns]"
      ]
     },
     "execution_count": 205,
     "metadata": {},
     "output_type": "execute_result"
    }
   ],
   "source": [
    "import re\n",
    "from collections import Counter\n",
    "import pandas as pd\n",
    "body = result['fields']['body']\n",
    "clean_body = re.sub(re.compile('<.*?>'), '', body)\n",
    "print(clean_body)\n",
    "words = re.findall(r'[\\w\\'-,]+', clean_body)\n",
    "print(len(words))\n",
    "unique_words = set(words)\n",
    "print(len(unique_words))\n",
    "df = pd.DataFrame.from_dict(Counter(words), orient='index')\n",
    "df.sort_values(0, ascending=False).reset_index()\n"
   ]
  }
 ],
 "metadata": {
  "kernelspec": {
   "display_name": "Python 3",
   "language": "python",
   "name": "python3"
  },
  "language_info": {
   "codemirror_mode": {
    "name": "ipython",
    "version": 3
   },
   "file_extension": ".py",
   "mimetype": "text/x-python",
   "name": "python",
   "nbconvert_exporter": "python",
   "pygments_lexer": "ipython3",
   "version": "3.11.1"
  },
  "vscode": {
   "interpreter": {
    "hash": "244976cd789a0e41b357eba34b56d987a42d764805d4d22c7ae55235970e3760"
   }
  }
 },
 "nbformat": 4,
 "nbformat_minor": 4
}
