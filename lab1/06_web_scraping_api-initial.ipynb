{
 "cells": [
  {
   "cell_type": "markdown",
   "metadata": {},
   "source": [
    "# The Guardian API\n",
    "\n",
    "In the `05_web_scraping_beautiful_soup.ipynb` notebook, we saw examples on how BeautifulSoup can be used \n",
    "to parse messy HTML, to extract information, and to act as a rudimentary web crawler. \n",
    "We used The Guardian as an illustrative example about how this can be achieved. \n",
    "The reason for choosing The Guardian was because they provide a REST API to their servers. \n",
    "With the REST API it is possible to perform specific queries on their servers, and to receive \n",
    "current information from their servers according to their API guide (ie in JSON)\n",
    "\n",
    "http://open-platform.theguardian.com/\n",
    "\n",
    "In order to use their API, you will need to register for an API key. \n",
    "At the time of writing (Jan 24, 2022) this was an automated process that can be completed at \n",
    "\n",
    "https://bonobo.capi.gutools.co.uk/register/developer\n",
    "\n",
    "On registration you will receive an API key which will look like: 303qwe2k-xxxx-xxxx-xxxx-eff86a248059\n",
    "\n",
    "The API is documented here: \n",
    "\n",
    "http://open-platform.theguardian.com/documentation/\n",
    "\n",
    "and Python bindings to their API are provided by The Guardian here\n",
    "\n",
    "https://github.com/prabhath6/theguardian-api-python\n",
    "\n",
    "and these can easily be integrated into a web-crawler based on API calls, rather than being based \n",
    "on HTML parsing, etc. \n",
    "\n",
    "We use four parameters in our queries here: \n",
    "\n",
    "1. `section`: the section of the newspaper that we are interested in querying. In this case we will look at \n",
    "the technology section \n",
    "\n",
    "2. `order-by`: We have specified that the newest items should be closer to the front of the query list \n",
    "\n",
    "3. `api-key`: In this notebook, the api-key is left as `test` (works here), but for *real* deployment of such a spider an API key obtained from Guardian should be specified. For the lab tasks, you should replace `test` API key with your personal API key. \n",
    "\n",
    "4. `page-size`: The number of results to return. "
   ]
  },
  {
   "cell_type": "code",
   "execution_count": 1,
   "metadata": {},
   "outputs": [],
   "source": [
    "from __future__ import print_function\n",
    "\n",
    "import requests \n",
    "import json "
   ]
  },
  {
   "cell_type": "markdown",
   "metadata": {},
   "source": [
    "# Inspect all sections and search for technology-based sections"
   ]
  },
  {
   "cell_type": "code",
   "execution_count": 2,
   "metadata": {},
   "outputs": [],
   "source": [
    "url = 'https://content.guardianapis.com/sections?api-key=3367cbf7-7e5a-406a-ab07-6a6c7e8f934d'\n",
    "req = requests.get(url)\n",
    "src = req.text "
   ]
  },
  {
   "cell_type": "code",
   "execution_count": 3,
   "metadata": {
    "scrolled": true
   },
   "outputs": [
    {
     "data": {
      "text/plain": [
       "'ok'"
      ]
     },
     "execution_count": 3,
     "metadata": {},
     "output_type": "execute_result"
    }
   ],
   "source": [
    "json.loads(src)['response']['status']"
   ]
  },
  {
   "cell_type": "code",
   "execution_count": 4,
   "metadata": {},
   "outputs": [
    {
     "name": "stdout",
     "output_type": "stream",
     "text": [
      "dict_keys(['status', 'userTier', 'total', 'results'])\n"
     ]
    }
   ],
   "source": [
    "sections = json.loads(src)['response']\n",
    "\n",
    "print(sections.keys())"
   ]
  },
  {
   "cell_type": "code",
   "execution_count": 5,
   "metadata": {},
   "outputs": [
    {
     "name": "stdout",
     "output_type": "stream",
     "text": [
      "{\n",
      "  \"apiUrl\": \"https://content.guardianapis.com/about\",\n",
      "  \"editions\": [\n",
      "    {\n",
      "      \"apiUrl\": \"https://content.guardianapis.com/about\",\n",
      "      \"code\": \"default\",\n",
      "      \"id\": \"about\",\n",
      "      \"webTitle\": \"About\",\n",
      "      \"webUrl\": \"https://www.theguardian.com/about\"\n",
      "    }\n",
      "  ],\n",
      "  \"id\": \"about\",\n",
      "  \"webTitle\": \"About\",\n",
      "  \"webUrl\": \"https://www.theguardian.com/about\"\n",
      "}\n"
     ]
    }
   ],
   "source": [
    "print(json.dumps(sections['results'][0], indent=2, sort_keys=True))"
   ]
  },
  {
   "cell_type": "code",
   "execution_count": 6,
   "metadata": {},
   "outputs": [
    {
     "name": "stdout",
     "output_type": "stream",
     "text": [
      "Technology https://content.guardianapis.com/technology\n"
     ]
    }
   ],
   "source": [
    "for result in sections['results']: \n",
    "    if 'tech' in result['id'].lower(): \n",
    "        print(result['webTitle'], result['apiUrl'])"
   ]
  },
  {
   "cell_type": "markdown",
   "metadata": {},
   "source": [
    "# Manual query on whole API"
   ]
  },
  {
   "cell_type": "code",
   "execution_count": 13,
   "metadata": {},
   "outputs": [],
   "source": [
    "# Specify the arguments\n",
    "args = {\n",
    "    'section': 'technology', \n",
    "    'order-by': 'newest', \n",
    "    'api-key': '3367cbf7-7e5a-406a-ab07-6a6c7e8f934d', \n",
    "    'page-size': '100',\n",
    "    'q' : 'privacy%20AND%20data'\n",
    "}\n",
    "\n",
    "# Construct the URL\n",
    "base_url = 'http://content.guardianapis.com/search'\n",
    "url = '{}?{}'.format(\n",
    "    base_url, \n",
    "    '&'.join([\"{}={}\".format(kk, vv) for kk, vv in args.items()])\n",
    ")\n",
    "\n",
    "# Make the request and extract the source\n",
    "req = requests.get(url) \n",
    "src = req.text"
   ]
  },
  {
   "cell_type": "code",
   "execution_count": 14,
   "metadata": {},
   "outputs": [
    {
     "name": "stdout",
     "output_type": "stream",
     "text": [
      "Number of byes received: 60446\n"
     ]
    }
   ],
   "source": [
    "print('Number of byes received:', len(src))"
   ]
  },
  {
   "cell_type": "markdown",
   "metadata": {},
   "source": [
    "The API returns JSON, so we parse this using the in-built JSON library. \n",
    "The API specifies that all data are returned within the `response` key, even under failure. \n",
    "Thereofre, I have immediately descended to the response field "
   ]
  },
  {
   "cell_type": "markdown",
   "metadata": {},
   "source": [
    "# Parsing the JSON"
   ]
  },
  {
   "cell_type": "code",
   "execution_count": 15,
   "metadata": {},
   "outputs": [
    {
     "name": "stdout",
     "output_type": "stream",
     "text": [
      "The following are available:\n",
      "  ['currentPage', 'orderBy', 'pageSize', 'pages', 'results', 'startIndex', 'status', 'total', 'userTier']\n"
     ]
    }
   ],
   "source": [
    "response = json.loads(src)['response']\n",
    "print('The following are available:\\n ', sorted(response.keys()))"
   ]
  },
  {
   "cell_type": "markdown",
   "metadata": {},
   "source": [
    "# Verifying the status code\n",
    "\n",
    "It is important to verify that the status message is `ok` before continuing - if it is not `ok` no 'real' data \n",
    "will have been received. "
   ]
  },
  {
   "cell_type": "code",
   "execution_count": 16,
   "metadata": {},
   "outputs": [],
   "source": [
    "assert response['status'] == 'ok'"
   ]
  },
  {
   "cell_type": "markdown",
   "metadata": {},
   "source": [
    "# Listing the results \n",
    "\n",
    "The API standard states that the results will be found in the `results` field under the `response` field. \n",
    "Furthermore, the URLs will be found in the `webUrl` field, and the title will be found in the `webTitle` \n",
    "field. \n",
    "\n",
    "First let's look to see what a single result looks like in full, and then I will print a restricted \n",
    "set of parameters on the full set of results ."
   ]
  },
  {
   "cell_type": "code",
   "execution_count": 17,
   "metadata": {},
   "outputs": [
    {
     "name": "stdout",
     "output_type": "stream",
     "text": [
      "{\n",
      "  \"apiUrl\": \"https://content.guardianapis.com/australia-news/2023/jan/25/dating-app-background-and-id-checks-being-considered-in-bid-to-fight-abuse\",\n",
      "  \"id\": \"australia-news/2023/jan/25/dating-app-background-and-id-checks-being-considered-in-bid-to-fight-abuse\",\n",
      "  \"isHosted\": false,\n",
      "  \"pillarId\": \"pillar/news\",\n",
      "  \"pillarName\": \"News\",\n",
      "  \"sectionId\": \"technology\",\n",
      "  \"sectionName\": \"Technology\",\n",
      "  \"type\": \"article\",\n",
      "  \"webPublicationDate\": \"2023-01-25T07:14:50Z\",\n",
      "  \"webTitle\": \"Dating app background and ID checks being considered in bid to fight abuse\",\n",
      "  \"webUrl\": \"https://www.theguardian.com/australia-news/2023/jan/25/dating-app-background-and-id-checks-being-considered-in-bid-to-fight-abuse\"\n",
      "}\n"
     ]
    }
   ],
   "source": [
    "print(json.dumps(response['results'][0], indent=2, sort_keys=True))"
   ]
  },
  {
   "cell_type": "code",
   "execution_count": 18,
   "metadata": {},
   "outputs": [
    {
     "name": "stdout",
     "output_type": "stream",
     "text": [
      "https://www.theguardian.com/australia-news/2023/jan/25/dating-app-back Dating app backgroun\n",
      "https://www.theguardian.com/technology/2023/jan/24/techscape-tiktok-ba TechScape: Is ‘banni\n",
      "https://www.theguardian.com/technology/2023/jan/19/young-people-do-you Young people: do you\n",
      "https://www.theguardian.com/technology/2023/jan/17/age-checks-trolls-a Age checks, trolls a\n",
      "https://www.theguardian.com/technology/2023/jan/12/meta-voyager-labs-s Meta alleges surveil\n",
      "https://www.theguardian.com/technology/2023/jan/09/amazon-employee-dea ‘Lack of respect’: o\n",
      "https://www.theguardian.com/technology/2023/jan/09/afl-partner-cryptoc AFL partner Crypto.c\n",
      "https://www.theguardian.com/technology/2023/jan/04/meta-dealt-blow-eu- Meta dealt blow by E\n",
      "https://www.theguardian.com/technology/2022/dec/30/explainer-us-congre Why did the US just \n",
      "https://www.theguardian.com/technology/2022/dec/30/us-tiktok-ban-gover US bans China-based \n",
      "https://www.theguardian.com/technology/2022/dec/20/techscape-elon-musk TechScape: Elon Musk\n",
      "https://www.theguardian.com/technology/2022/dec/15/twitter-suspends-ac Twitter suspends acc\n",
      "https://www.theguardian.com/technology/2022/dec/15/meta-facebook-owner Meta warns spyware s\n",
      "https://www.theguardian.com/technology/2022/dec/12/tell-us-have-you-ex Tell us: have you ex\n",
      "https://www.theguardian.com/technology/2022/dec/08/privacy-changes-app Privacy changes set \n",
      "https://www.theguardian.com/technology/2022/dec/07/texas-bans-tiktok-g Texas bans TikTok on\n",
      "https://www.theguardian.com/technology/2022/dec/07/metaverse-slow-deat ‘The metaverse will \n",
      "https://www.theguardian.com/technology/2022/dec/04/ai-bot-chatgpt-stun AI bot ChatGPT stuns\n",
      "https://www.theguardian.com/technology/2022/dec/02/i-am-a-medibank-cus I am a Medibank cust\n",
      "https://www.theguardian.com/technology/2022/nov/29/is-it-worth-taking- Is it worth taking o\n",
      "https://www.theguardian.com/technology/2022/nov/22/instagram-told-to-r Instagram told to re\n",
      "https://www.theguardian.com/technology/2022/nov/21/woman-launches-high Facebook sued for co\n",
      "https://www.theguardian.com/technology/2022/nov/14/have-you-been-affec Have you been affect\n",
      "https://www.theguardian.com/technology/2022/nov/12/joining-the-herd-wh Joining the herd: wh\n",
      "https://www.theguardian.com/technology/2022/nov/12/elon-musk-twitter-c Chaos unleashed: Elo\n",
      "https://www.theguardian.com/technology/2022/nov/11/tech-workers-have-y Tech workers: have y\n",
      "https://www.theguardian.com/technology/2022/oct/26/i-am-a-medibank-cus I am a Medibank cust\n",
      "https://www.theguardian.com/technology/2022/nov/10/exodus-twitter-elon Exodus continues at \n",
      "https://www.theguardian.com/technology/2022/nov/10/elon-musk-scraps-tw Elon Musk scraps Twi\n",
      "https://www.theguardian.com/technology/2022/nov/09/mark-zuckerberg-met Facebook owner Meta \n",
      "https://www.theguardian.com/technology/2022/nov/08/meta-layoffs-facebo Mark Zuckerberg conf\n",
      "https://www.theguardian.com/technology/2022/nov/07/tiktoks-china-byted TikTok’s ties to Chi\n",
      "https://www.theguardian.com/technology/2022/nov/07/facebook-parent-met Facebook’s parent Me\n",
      "https://www.theguardian.com/technology/2022/nov/06/un-urges-elon-musk- UN urges Elon Musk t\n",
      "https://www.theguardian.com/technology/2022/nov/02/tiktok-tells-europe TikTok tells Europea\n",
      "https://www.theguardian.com/technology/2022/oct/31/tell-us-how-do-you- Tell us: how do you \n",
      "https://www.theguardian.com/technology/2022/oct/31/online-age-verifica Online age-verificat\n",
      "https://www.theguardian.com/technology/2022/oct/29/privacy-problem-tec Can a new form of cr\n",
      "https://www.theguardian.com/technology/2022/oct/27/government-criticis Government criticise\n",
      "https://www.theguardian.com/technology/2022/oct/26/meta-earnings-repor $80bn wiped from val\n",
      "https://www.theguardian.com/technology/2022/oct/27/live-facial-recogni UK police use of liv\n",
      "https://www.theguardian.com/technology/2022/oct/25/tell-us-have-you-se Tell us: have you se\n",
      "https://www.theguardian.com/technology/2022/oct/23/tiktok-rise-algorit How TikTok’s algorit\n",
      "https://www.theguardian.com/technology/2022/oct/21/tiktok-denies-repor TikTok denies report\n",
      "https://www.theguardian.com/technology/2022/oct/21/medibank-hack-expla Medibank hack: what \n",
      "https://www.theguardian.com/technology/2022/oct/20/porn-sites-not-doin Porn sites are not d\n",
      "https://www.theguardian.com/technology/2022/oct/20/census-website-stru Census website struc\n",
      "https://www.theguardian.com/technology/2022/oct/10/tell-us-have-you-ta Tell us: have you ta\n",
      "https://www.theguardian.com/technology/2022/oct/07/government-consider Government considers\n",
      "https://www.theguardian.com/technology/2022/oct/02/danielle-citron-pri Law professor Daniel\n",
      "https://www.theguardian.com/technology/2022/sep/26/tiktok-fine-protect TikTok could face £2\n",
      "https://www.theguardian.com/technology/2022/sep/18/whistleblower-elon- Whistleblower claims\n",
      "https://www.theguardian.com/technology/2022/sep/13/twitter-whistleblow Twitter whistleblowe\n",
      "https://www.theguardian.com/technology/2022/sep/13/can-we-escape-the-t ‘So many people tell\n",
      "https://www.theguardian.com/technology/2022/sep/12/twitter-peiter-mudg Twitter whistleblowe\n",
      "https://www.theguardian.com/technology/2022/sep/08/snapchat-target-mil ‘We can do better’: \n",
      "https://www.theguardian.com/technology/2022/sep/08/apple-iphone-14-wat Apple’s iPhone 14 pu\n",
      "https://www.theguardian.com/technology/2022/sep/05/instagram-owner-met Instagram owner Meta\n",
      "https://www.theguardian.com/technology/2022/aug/31/snapchat-parent-sna Snapchat firm cuts 1\n",
      "https://www.theguardian.com/technology/2022/aug/30/california-protect- First-of-its-kind le\n",
      "https://www.theguardian.com/technology/2022/aug/30/elon-musk-adds-whis Elon Musk adds whist\n",
      "https://www.theguardian.com/technology/2022/aug/29/ftc-sues-kochava-tr Data company sued by\n",
      "https://www.theguardian.com/technology/2022/aug/27/facebook-cambridge- Facebook-Cambridge A\n",
      "https://www.theguardian.com/technology/2022/aug/27/the-best-6-i-ever-s The best £6 I ever s\n",
      "https://www.theguardian.com/technology/2022/aug/25/tell-us-what-kind-o Tell us: what kind o\n",
      "https://www.theguardian.com/technology/2022/aug/23/twitter-whistleblow How Twitter’s whistl\n",
      "https://www.theguardian.com/technology/2022/aug/23/voice-accent-techno The AI startup erasi\n",
      "https://www.theguardian.com/technology/2022/aug/24/tiktok-can-track-us TikTok can track use\n",
      "https://www.theguardian.com/technology/2022/aug/23/twitter-whistleblow Twitter whistleblowe\n",
      "https://www.theguardian.com/technology/2022/aug/22/priti-patel-urges-m Priti Patel urges Me\n",
      "https://www.theguardian.com/technology/2022/aug/16/users-of-zoom-on-ma Users of Zoom on Mac\n",
      "https://www.theguardian.com/technology/2022/aug/16/ask-all-the-time-wh ‘Ask all the time: w\n",
      "https://www.theguardian.com/technology/2022/aug/11/meta-injecting-code Meta injecting code \n",
      "https://www.theguardian.com/technology/2022/aug/09/blenderbot-meta-cha Meta’s new AI chatbo\n",
      "https://www.theguardian.com/technology/2022/aug/08/whatsapp-opens-door WhatsApp opens the d\n",
      "https://www.theguardian.com/technology/2022/jul/31/apple-scan-iphones- Apple should scan iP\n",
      "https://www.theguardian.com/technology/2022/jul/27/meta-growth-halt-fa Meta’s growth comes \n",
      "https://www.theguardian.com/technology/2022/jul/27/tell-us-what-do-you Tell us: what do you\n",
      "https://www.theguardian.com/technology/2022/jul/27/techscape-what-shou TechScape: What shou\n",
      "https://www.theguardian.com/technology/2022/jul/25/bunnings-and-kmart- Bunnings and Kmart h\n",
      "https://www.theguardian.com/technology/2022/jul/22/snap-shares-slump-2 Shares in Snapchat o\n",
      "https://www.theguardian.com/technology/2022/jul/21/google-abortion-pri Google under scrutin\n",
      "https://www.theguardian.com/technology/2022/jul/21/facebook-to-restore Facebook to restore \n",
      "https://www.theguardian.com/technology/2022/jul/20/mark-zuckerberg-dep Mark Zuckerberg to f\n",
      "https://www.theguardian.com/technology/2022/jul/20/tiktoks-privacy-pro TechScape: suspiciou\n",
      "https://www.theguardian.com/technology/2022/jul/19/tiktok-has-been-acc TikTok has been accu\n",
      "https://www.theguardian.com/technology/2022/jul/16/amazon-style-clothi ‘Hi-tech’, underwhel\n",
      "https://www.theguardian.com/technology/2022/jul/13/amazon-ring-doorbel Amazon gave Ring doo\n",
      "https://www.theguardian.com/technology/2022/jul/11/uk-parents-how-much UK parents: how much\n",
      "https://www.theguardian.com/technology/2022/jul/06/uk-could-force-mess UK could force messa\n",
      "https://www.theguardian.com/technology/2022/jul/04/amazon-fire-7-2022- Amazon Fire 7 2022 r\n",
      "https://www.theguardian.com/technology/2022/jun/30/users-opensea-nft-m Users of biggest NFT\n",
      "https://www.theguardian.com/technology/2022/jun/29/techscape-roe-v-wad TechScape: Can US wo\n",
      "https://www.theguardian.com/technology/2022/jun/25/changpeng-zhao-tech Changpeng Zhao: tech\n",
      "https://www.theguardian.com/technology/2022/jun/23/instagram-try-age-c Instagram to try out\n",
      "https://www.theguardian.com/technology/2022/jun/22/microsoft-limits-ac Microsoft limits acc\n",
      "https://www.theguardian.com/technology/2022/jun/21/elon-musk-daughter- Elon Musk’s daughter\n",
      "https://www.theguardian.com/technology/2022/jun/21/tell-us-have-you-or Tell us: have you or\n",
      "https://www.theguardian.com/technology/2022/jun/20/nreal-air-review-ar Nreal Air review: ne\n",
      "https://www.theguardian.com/technology/2022/jun/17/uk-plan-to-scrap-co UK plan to scrap coo\n"
     ]
    }
   ],
   "source": [
    "for result in response['results']: \n",
    "    print(result['webUrl'][:70], result['webTitle'][:20])"
   ]
  },
  {
   "cell_type": "code",
   "execution_count": null,
   "metadata": {},
   "outputs": [],
   "source": []
  }
 ],
 "metadata": {
  "kernelspec": {
   "display_name": "Python 3",
   "language": "python",
   "name": "python3"
  },
  "language_info": {
   "codemirror_mode": {
    "name": "ipython",
    "version": 3
   },
   "file_extension": ".py",
   "mimetype": "text/x-python",
   "name": "python",
   "nbconvert_exporter": "python",
   "pygments_lexer": "ipython3",
   "version": "3.11.1"
  },
  "vscode": {
   "interpreter": {
    "hash": "244976cd789a0e41b357eba34b56d987a42d764805d4d22c7ae55235970e3760"
   }
  }
 },
 "nbformat": 4,
 "nbformat_minor": 4
}
